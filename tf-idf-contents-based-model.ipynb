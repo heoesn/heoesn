{
 "cells": [
  {
   "cell_type": "code",
   "execution_count": 1,
   "id": "1200d7e4",
   "metadata": {
    "_cell_guid": "b1076dfc-b9ad-4769-8c92-a6c4dae69d19",
    "_uuid": "8f2839f25d086af736a60e9eeb907d3b93b6e0e5",
    "execution": {
     "iopub.execute_input": "2023-05-18T01:36:54.821029Z",
     "iopub.status.busy": "2023-05-18T01:36:54.820648Z",
     "iopub.status.idle": "2023-05-18T01:36:54.862136Z",
     "shell.execute_reply": "2023-05-18T01:36:54.860909Z"
    },
    "papermill": {
     "duration": 0.051181,
     "end_time": "2023-05-18T01:36:54.864136",
     "exception": false,
     "start_time": "2023-05-18T01:36:54.812955",
     "status": "completed"
    },
    "tags": []
   },
   "outputs": [
    {
     "name": "stdout",
     "output_type": "stream",
     "text": [
      "/kaggle/input/t-academy-recommendation2/movies/ratings.csv\n",
      "/kaggle/input/t-academy-recommendation2/movies/movies_metadata.csv\n",
      "/kaggle/input/t-academy-recommendation2/books/book_tags.csv\n",
      "/kaggle/input/t-academy-recommendation2/books/ratings.csv\n",
      "/kaggle/input/t-academy-recommendation2/books/books.csv\n",
      "/kaggle/input/t-academy-recommendation2/books/sample_book.xml\n",
      "/kaggle/input/t-academy-recommendation2/books/to_read.csv\n",
      "/kaggle/input/t-academy-recommendation2/books/train.csv\n",
      "/kaggle/input/t-academy-recommendation2/books/test.csv\n",
      "/kaggle/input/t-academy-recommendation2/books/tags.csv\n",
      "/kaggle/input/contents/movies/movies_metadata.csv\n",
      "/kaggle/input/contentsbased/movies/movies_metadata.csv\n"
     ]
    }
   ],
   "source": [
    "# This Python 3 environment comes with many helpful analytics libraries installed\n",
    "# It is defined by the kaggle/python Docker image: https://github.com/kaggle/docker-python\n",
    "# For example, here's several helpful packages to load\n",
    "\n",
    "import numpy as np # linear algebra\n",
    "import pandas as pd # data processing, CSV file I/O (e.g. pd.read_csv)\n",
    "\n",
    "# Input data files are available in the read-only \"../input/\" directory\n",
    "# For example, running this (by clicking run or pressing Shift+Enter) will list all files under the input directory\n",
    "\n",
    "import os\n",
    "for dirname, _, filenames in os.walk('/kaggle/input'):\n",
    "    for filename in filenames:\n",
    "        print(os.path.join(dirname, filename))\n",
    "\n",
    "# You can write up to 20GB to the current directory (/kaggle/working/) that gets preserved as output when you create a version using \"Save & Run All\" \n",
    "# You can also write temporary files to /kaggle/temp/, but they won't be saved outside of the current session"
   ]
  },
  {
   "cell_type": "code",
   "execution_count": 2,
   "id": "96a47011",
   "metadata": {
    "execution": {
     "iopub.execute_input": "2023-05-18T01:36:54.877163Z",
     "iopub.status.busy": "2023-05-18T01:36:54.876812Z",
     "iopub.status.idle": "2023-05-18T01:36:58.078096Z",
     "shell.execute_reply": "2023-05-18T01:36:58.077101Z"
    },
    "papermill": {
     "duration": 3.210335,
     "end_time": "2023-05-18T01:36:58.080348",
     "exception": false,
     "start_time": "2023-05-18T01:36:54.870013",
     "status": "completed"
    },
    "tags": []
   },
   "outputs": [
    {
     "name": "stderr",
     "output_type": "stream",
     "text": [
      "/opt/conda/lib/python3.10/site-packages/scipy/__init__.py:146: UserWarning: A NumPy version >=1.16.5 and <1.23.0 is required for this version of SciPy (detected version 1.23.5\n"
     ]
    }
   ],
   "source": [
    "import pandas as pd\n",
    "import numpy as np\n",
    "import plotnine\n",
    "from plotnine import *\n",
    "import os, sys, gc\n",
    "from tqdm.notebook import tqdm\n",
    "import warnings\n",
    "warnings.filterwarnings('ignore')"
   ]
  },
  {
   "cell_type": "code",
   "execution_count": 3,
   "id": "a43ada64",
   "metadata": {
    "execution": {
     "iopub.execute_input": "2023-05-18T01:36:58.093330Z",
     "iopub.status.busy": "2023-05-18T01:36:58.092815Z",
     "iopub.status.idle": "2023-05-18T01:36:58.098947Z",
     "shell.execute_reply": "2023-05-18T01:36:58.097651Z"
    },
    "papermill": {
     "duration": 0.0155,
     "end_time": "2023-05-18T01:36:58.101712",
     "exception": false,
     "start_time": "2023-05-18T01:36:58.086212",
     "status": "completed"
    },
    "tags": []
   },
   "outputs": [
    {
     "name": "stdout",
     "output_type": "stream",
     "text": [
      "['book_tags.csv', 'ratings.csv', 'books.csv', 'sample_book.xml', 'to_read.csv', 'train.csv', 'test.csv', 'tags.csv']\n"
     ]
    }
   ],
   "source": [
    "path = '/kaggle/input/t-academy-recommendation2/books'\n",
    "print(os.listdir(path))"
   ]
  },
  {
   "cell_type": "code",
   "execution_count": 4,
   "id": "1fe7b8a5",
   "metadata": {
    "execution": {
     "iopub.execute_input": "2023-05-18T01:36:58.115754Z",
     "iopub.status.busy": "2023-05-18T01:36:58.115351Z",
     "iopub.status.idle": "2023-05-18T01:36:59.036894Z",
     "shell.execute_reply": "2023-05-18T01:36:59.035929Z"
    },
    "papermill": {
     "duration": 0.9314,
     "end_time": "2023-05-18T01:36:59.039474",
     "exception": false,
     "start_time": "2023-05-18T01:36:58.108074",
     "status": "completed"
    },
    "tags": []
   },
   "outputs": [],
   "source": [
    "books = pd.read_csv('/kaggle/input/t-academy-recommendation2/books/books.csv')\n",
    "book_tags = pd.read_csv('/kaggle/input/t-academy-recommendation2/books/book_tags.csv')\n",
    "train = pd.read_csv('/kaggle/input/t-academy-recommendation2/books/train.csv')\n",
    "test = pd.read_csv('/kaggle/input/t-academy-recommendation2/books/test.csv')\n",
    "tags = pd.read_csv('/kaggle/input/t-academy-recommendation2/books/tags.csv')\n",
    "to_read = pd.read_csv('/kaggle/input/t-academy-recommendation2/books/to_read.csv')"
   ]
  },
  {
   "cell_type": "code",
   "execution_count": 5,
   "id": "a37db24b",
   "metadata": {
    "execution": {
     "iopub.execute_input": "2023-05-18T01:36:59.053279Z",
     "iopub.status.busy": "2023-05-18T01:36:59.052949Z",
     "iopub.status.idle": "2023-05-18T01:36:59.397470Z",
     "shell.execute_reply": "2023-05-18T01:36:59.396647Z"
    },
    "papermill": {
     "duration": 0.35388,
     "end_time": "2023-05-18T01:36:59.399714",
     "exception": false,
     "start_time": "2023-05-18T01:36:59.045834",
     "status": "completed"
    },
    "tags": []
   },
   "outputs": [],
   "source": [
    "train['book_id'] = train['book_id'].astype(str)\n",
    "test['book_id'] = test['book_id'].astype(str)\n",
    "books['book_id'] = books['book_id'].astype(str)"
   ]
  },
  {
   "cell_type": "code",
   "execution_count": 6,
   "id": "033d9b44",
   "metadata": {
    "execution": {
     "iopub.execute_input": "2023-05-18T01:36:59.413042Z",
     "iopub.status.busy": "2023-05-18T01:36:59.412718Z",
     "iopub.status.idle": "2023-05-18T01:36:59.425463Z",
     "shell.execute_reply": "2023-05-18T01:36:59.424745Z"
    },
    "papermill": {
     "duration": 0.021671,
     "end_time": "2023-05-18T01:36:59.427570",
     "exception": false,
     "start_time": "2023-05-18T01:36:59.405899",
     "status": "completed"
    },
    "tags": []
   },
   "outputs": [],
   "source": [
    "popular_rec_model = books.sort_values(by='books_count', ascending=False)['book_id'].values[0:500]"
   ]
  },
  {
   "cell_type": "code",
   "execution_count": 7,
   "id": "5eb893d5",
   "metadata": {
    "execution": {
     "iopub.execute_input": "2023-05-18T01:36:59.442041Z",
     "iopub.status.busy": "2023-05-18T01:36:59.440935Z",
     "iopub.status.idle": "2023-05-18T01:37:18.828846Z",
     "shell.execute_reply": "2023-05-18T01:37:18.828091Z"
    },
    "papermill": {
     "duration": 19.396969,
     "end_time": "2023-05-18T01:37:18.830674",
     "exception": false,
     "start_time": "2023-05-18T01:36:59.433705",
     "status": "completed"
    },
    "tags": []
   },
   "outputs": [
    {
     "data": {
      "application/vnd.jupyter.widget-view+json": {
       "model_id": "6868b9f8758246b59e48a561654a5fae",
       "version_major": 2,
       "version_minor": 0
      },
      "text/plain": [
       "  0%|          | 0/53424 [00:00<?, ?it/s]"
      ]
     },
     "metadata": {},
     "output_type": "display_data"
    }
   ],
   "source": [
    "sol = test.groupby(['user_id'])['book_id'].agg({'unique'}).reset_index()\n",
    "gt = {}\n",
    "for user in tqdm(sol['user_id'].unique()):\n",
    "  gt[user] = list(sol[sol['user_id'] == user]['unique'].values[0])"
   ]
  },
  {
   "cell_type": "code",
   "execution_count": 8,
   "id": "7e2d9d7f",
   "metadata": {
    "execution": {
     "iopub.execute_input": "2023-05-18T01:37:18.844184Z",
     "iopub.status.busy": "2023-05-18T01:37:18.843876Z",
     "iopub.status.idle": "2023-05-18T01:37:18.858708Z",
     "shell.execute_reply": "2023-05-18T01:37:18.857980Z"
    },
    "papermill": {
     "duration": 0.023876,
     "end_time": "2023-05-18T01:37:18.860632",
     "exception": false,
     "start_time": "2023-05-18T01:37:18.836756",
     "status": "completed"
    },
    "tags": []
   },
   "outputs": [],
   "source": [
    "rec_df = pd.DataFrame()\n",
    "rec_df['user_id'] = train['user_id'].unique()"
   ]
  },
  {
   "cell_type": "markdown",
   "id": "ab34aa93",
   "metadata": {
    "papermill": {
     "duration": 0.005843,
     "end_time": "2023-05-18T01:37:18.872558",
     "exception": false,
     "start_time": "2023-05-18T01:37:18.866715",
     "status": "completed"
    },
    "tags": []
   },
   "source": [
    "TF-IDF Contents Based Model"
   ]
  },
  {
   "cell_type": "code",
   "execution_count": 9,
   "id": "963d7a3c",
   "metadata": {
    "execution": {
     "iopub.execute_input": "2023-05-18T01:37:18.885830Z",
     "iopub.status.busy": "2023-05-18T01:37:18.885212Z",
     "iopub.status.idle": "2023-05-18T01:37:18.994839Z",
     "shell.execute_reply": "2023-05-18T01:37:18.993864Z"
    },
    "papermill": {
     "duration": 0.118324,
     "end_time": "2023-05-18T01:37:18.996605",
     "exception": false,
     "start_time": "2023-05-18T01:37:18.878281",
     "status": "completed"
    },
    "tags": []
   },
   "outputs": [
    {
     "name": "stdout",
     "output_type": "stream",
     "text": [
      "(10000, 9019)\n"
     ]
    }
   ],
   "source": [
    "from sklearn.feature_extraction.text import TfidfVectorizer\n",
    "\n",
    "tfidf = TfidfVectorizer(stop_words='english')\n",
    "tfidf_matrix = tfidf.fit_transform(books['title'])\n",
    "print(tfidf_matrix.shape)"
   ]
  },
  {
   "cell_type": "code",
   "execution_count": 10,
   "id": "74f350e6",
   "metadata": {
    "execution": {
     "iopub.execute_input": "2023-05-18T01:37:19.010433Z",
     "iopub.status.busy": "2023-05-18T01:37:19.010130Z",
     "iopub.status.idle": "2023-05-18T01:37:19.251023Z",
     "shell.execute_reply": "2023-05-18T01:37:19.250066Z"
    },
    "papermill": {
     "duration": 0.250187,
     "end_time": "2023-05-18T01:37:19.252980",
     "exception": false,
     "start_time": "2023-05-18T01:37:19.002793",
     "status": "completed"
    },
    "tags": []
   },
   "outputs": [
    {
     "data": {
      "text/plain": [
       "(10000, 10000)"
      ]
     },
     "execution_count": 10,
     "metadata": {},
     "output_type": "execute_result"
    }
   ],
   "source": [
    "from sklearn.metrics.pairwise import cosine_similarity\n",
    "cosine_matrix = cosine_similarity(tfidf_matrix, tfidf_matrix)\n",
    "cosine_matrix.shape"
   ]
  },
  {
   "cell_type": "code",
   "execution_count": 11,
   "id": "88ef5b70",
   "metadata": {
    "execution": {
     "iopub.execute_input": "2023-05-18T01:37:19.266829Z",
     "iopub.status.busy": "2023-05-18T01:37:19.266456Z",
     "iopub.status.idle": "2023-05-18T01:37:19.279863Z",
     "shell.execute_reply": "2023-05-18T01:37:19.278830Z"
    },
    "papermill": {
     "duration": 0.022632,
     "end_time": "2023-05-18T01:37:19.281811",
     "exception": false,
     "start_time": "2023-05-18T01:37:19.259179",
     "status": "completed"
    },
    "tags": []
   },
   "outputs": [],
   "source": [
    "# Mapping\n",
    "\n",
    "book2id = {}\n",
    "for i, c in enumerate(books['title']): book2id[i] = c\n",
    "    \n",
    "id2book = {}\n",
    "for i, c in book2id.items(): id2book[c] = i\n",
    "    \n",
    "bookid2book = {}\n",
    "for i, j in zip(books['title'].values, books['book_id'].values):\n",
    "    bookid2book[i] = j"
   ]
  },
  {
   "cell_type": "code",
   "execution_count": 12,
   "id": "7a62c58e",
   "metadata": {
    "execution": {
     "iopub.execute_input": "2023-05-18T01:37:19.296055Z",
     "iopub.status.busy": "2023-05-18T01:37:19.295723Z",
     "iopub.status.idle": "2023-05-18T01:37:19.302716Z",
     "shell.execute_reply": "2023-05-18T01:37:19.301570Z"
    },
    "papermill": {
     "duration": 0.016728,
     "end_time": "2023-05-18T01:37:19.304728",
     "exception": false,
     "start_time": "2023-05-18T01:37:19.288000",
     "status": "completed"
    },
    "tags": []
   },
   "outputs": [
    {
     "data": {
      "text/plain": [
       "0              The Hunger Games (The Hunger Games, #1)\n",
       "1    Harry Potter and the Sorcerer's Stone (Harry P...\n",
       "2                              Twilight (Twilight, #1)\n",
       "3                                To Kill a Mockingbird\n",
       "4                                     The Great Gatsby\n",
       "Name: title, dtype: object"
      ]
     },
     "execution_count": 12,
     "metadata": {},
     "output_type": "execute_result"
    }
   ],
   "source": [
    "books['title'].head()"
   ]
  },
  {
   "cell_type": "code",
   "execution_count": 13,
   "id": "a0c49f22",
   "metadata": {
    "execution": {
     "iopub.execute_input": "2023-05-18T01:37:19.318682Z",
     "iopub.status.busy": "2023-05-18T01:37:19.318335Z",
     "iopub.status.idle": "2023-05-18T01:37:19.330517Z",
     "shell.execute_reply": "2023-05-18T01:37:19.329631Z"
    },
    "papermill": {
     "duration": 0.021092,
     "end_time": "2023-05-18T01:37:19.332151",
     "exception": false,
     "start_time": "2023-05-18T01:37:19.311059",
     "status": "completed"
    },
    "tags": []
   },
   "outputs": [
    {
     "data": {
      "text/plain": [
       "[('The Twilight Saga (Twilight, #1-4)', 0.920347418277986),\n",
       " ('The Twilight Collection (Twilight, #1-3)', 0.8786339079447184),\n",
       " ('The Twilight Saga Complete Collection  (Twilight, #1-4 + 3.5)',\n",
       "  0.7697532056304309),\n",
       " ('Twilight and History', 0.7465001575650626),\n",
       " ('The Twilight Saga: The Official Illustrated Guide (Twilight, #4.5)',\n",
       "  0.7045174300631831),\n",
       " ('Twilight Eyes', 0.6770737331426326),\n",
       " ('Twilight (The Mediator, #6)', 0.6377631333498953),\n",
       " ('New Moon (Twilight, #2)', 0.6185575138625542),\n",
       " ('Eclipse (Twilight, #3)', 0.612819563854136),\n",
       " ('The Servants of Twilight', 0.5837817298466093)]"
      ]
     },
     "execution_count": 13,
     "metadata": {},
     "output_type": "execute_result"
    }
   ],
   "source": [
    "idx = id2book['Twilight (Twilight, #1)']\n",
    "sim_scores = [(book2id[i], c) for i, c in enumerate(cosine_matrix[idx]) if i != idx]\n",
    "sim_scores = sorted(sim_scores, key = lambda x: x[1], reverse=True)\n",
    "sim_scores[0:10]"
   ]
  },
  {
   "cell_type": "code",
   "execution_count": 14,
   "id": "b6d6a3ac",
   "metadata": {
    "execution": {
     "iopub.execute_input": "2023-05-18T01:37:19.346689Z",
     "iopub.status.busy": "2023-05-18T01:37:19.346067Z",
     "iopub.status.idle": "2023-05-18T01:37:19.497158Z",
     "shell.execute_reply": "2023-05-18T01:37:19.495847Z"
    },
    "papermill": {
     "duration": 0.160598,
     "end_time": "2023-05-18T01:37:19.499229",
     "exception": false,
     "start_time": "2023-05-18T01:37:19.338631",
     "status": "completed"
    },
    "tags": []
   },
   "outputs": [
    {
     "data": {
      "text/html": [
       "<div>\n",
       "<style scoped>\n",
       "    .dataframe tbody tr th:only-of-type {\n",
       "        vertical-align: middle;\n",
       "    }\n",
       "\n",
       "    .dataframe tbody tr th {\n",
       "        vertical-align: top;\n",
       "    }\n",
       "\n",
       "    .dataframe thead th {\n",
       "        text-align: right;\n",
       "    }\n",
       "</style>\n",
       "<table border=\"1\" class=\"dataframe\">\n",
       "  <thead>\n",
       "    <tr style=\"text-align: right;\">\n",
       "      <th></th>\n",
       "      <th>user_id</th>\n",
       "      <th>book_id</th>\n",
       "      <th>title</th>\n",
       "    </tr>\n",
       "  </thead>\n",
       "  <tbody>\n",
       "    <tr>\n",
       "      <th>0</th>\n",
       "      <td>1</td>\n",
       "      <td>4893</td>\n",
       "      <td>NaN</td>\n",
       "    </tr>\n",
       "    <tr>\n",
       "      <th>1</th>\n",
       "      <td>2</td>\n",
       "      <td>8855</td>\n",
       "      <td>NaN</td>\n",
       "    </tr>\n",
       "    <tr>\n",
       "      <th>2</th>\n",
       "      <td>3</td>\n",
       "      <td>9049</td>\n",
       "      <td>NaN</td>\n",
       "    </tr>\n",
       "    <tr>\n",
       "      <th>3</th>\n",
       "      <td>4</td>\n",
       "      <td>3273</td>\n",
       "      <td>Moloka'i</td>\n",
       "    </tr>\n",
       "    <tr>\n",
       "      <th>4</th>\n",
       "      <td>5</td>\n",
       "      <td>4829</td>\n",
       "      <td>NaN</td>\n",
       "    </tr>\n",
       "  </tbody>\n",
       "</table>\n",
       "</div>"
      ],
      "text/plain": [
       "   user_id book_id     title\n",
       "0        1    4893       NaN\n",
       "1        2    8855       NaN\n",
       "2        3    9049       NaN\n",
       "3        4    3273  Moloka'i\n",
       "4        5    4829       NaN"
      ]
     },
     "execution_count": 14,
     "metadata": {},
     "output_type": "execute_result"
    }
   ],
   "source": [
    "train = pd.merge(train, books[['book_id', 'title']], how='left', on='book_id')\n",
    "train.head()"
   ]
  },
  {
   "cell_type": "code",
   "execution_count": 15,
   "id": "0a1066ba",
   "metadata": {
    "execution": {
     "iopub.execute_input": "2023-05-18T01:37:19.513739Z",
     "iopub.status.busy": "2023-05-18T01:37:19.513394Z",
     "iopub.status.idle": "2023-05-18T01:37:19.566516Z",
     "shell.execute_reply": "2023-05-18T01:37:19.565633Z"
    },
    "papermill": {
     "duration": 0.062586,
     "end_time": "2023-05-18T01:37:19.568469",
     "exception": false,
     "start_time": "2023-05-18T01:37:19.505883",
     "status": "completed"
    },
    "tags": []
   },
   "outputs": [
    {
     "data": {
      "text/html": [
       "<div>\n",
       "<style scoped>\n",
       "    .dataframe tbody tr th:only-of-type {\n",
       "        vertical-align: middle;\n",
       "    }\n",
       "\n",
       "    .dataframe tbody tr th {\n",
       "        vertical-align: top;\n",
       "    }\n",
       "\n",
       "    .dataframe thead th {\n",
       "        text-align: right;\n",
       "    }\n",
       "</style>\n",
       "<table border=\"1\" class=\"dataframe\">\n",
       "  <thead>\n",
       "    <tr style=\"text-align: right;\">\n",
       "      <th></th>\n",
       "      <th>user_id</th>\n",
       "      <th>book_id</th>\n",
       "      <th>title</th>\n",
       "      <th>idx2title</th>\n",
       "    </tr>\n",
       "  </thead>\n",
       "  <tbody>\n",
       "    <tr>\n",
       "      <th>0</th>\n",
       "      <td>4</td>\n",
       "      <td>3273</td>\n",
       "      <td>Moloka'i</td>\n",
       "      <td>1215</td>\n",
       "    </tr>\n",
       "    <tr>\n",
       "      <th>1</th>\n",
       "      <td>7</td>\n",
       "      <td>4138</td>\n",
       "      <td>Naked</td>\n",
       "      <td>343</td>\n",
       "    </tr>\n",
       "    <tr>\n",
       "      <th>2</th>\n",
       "      <td>7</td>\n",
       "      <td>4588</td>\n",
       "      <td>Extremely Loud and Incredibly Close</td>\n",
       "      <td>248</td>\n",
       "    </tr>\n",
       "    <tr>\n",
       "      <th>3</th>\n",
       "      <td>9</td>\n",
       "      <td>8676</td>\n",
       "      <td>Unlimited Power : The New Science Of Personal ...</td>\n",
       "      <td>4701</td>\n",
       "    </tr>\n",
       "    <tr>\n",
       "      <th>4</th>\n",
       "      <td>10</td>\n",
       "      <td>5907</td>\n",
       "      <td>The Hobbit</td>\n",
       "      <td>6</td>\n",
       "    </tr>\n",
       "  </tbody>\n",
       "</table>\n",
       "</div>"
      ],
      "text/plain": [
       "   user_id book_id                                              title  \\\n",
       "0        4    3273                                           Moloka'i   \n",
       "1        7    4138                                              Naked   \n",
       "2        7    4588                Extremely Loud and Incredibly Close   \n",
       "3        9    8676  Unlimited Power : The New Science Of Personal ...   \n",
       "4       10    5907                                         The Hobbit   \n",
       "\n",
       "   idx2title  \n",
       "0       1215  \n",
       "1        343  \n",
       "2        248  \n",
       "3       4701  \n",
       "4          6  "
      ]
     },
     "execution_count": 15,
     "metadata": {},
     "output_type": "execute_result"
    }
   ],
   "source": [
    "# 0. title\n",
    "\n",
    "tf_train = train[train['title'].notnull()].reset_index(drop=True)\n",
    "tf_train['idx2title'] = tf_train['title'].apply(lambda x: id2book[x])\n",
    "tf_train.head()"
   ]
  },
  {
   "cell_type": "code",
   "execution_count": 16,
   "id": "d93dcf9b",
   "metadata": {
    "execution": {
     "iopub.execute_input": "2023-05-18T01:37:19.583619Z",
     "iopub.status.busy": "2023-05-18T01:37:19.583268Z",
     "iopub.status.idle": "2023-05-18T01:37:19.603558Z",
     "shell.execute_reply": "2023-05-18T01:37:19.602865Z"
    },
    "papermill": {
     "duration": 0.029758,
     "end_time": "2023-05-18T01:37:19.605239",
     "exception": false,
     "start_time": "2023-05-18T01:37:19.575481",
     "status": "completed"
    },
    "tags": []
   },
   "outputs": [],
   "source": [
    "idx2title2book = {}\n",
    "for i, j in zip(tf_train['idx2title'].values, tf_train['book_id'].values):\n",
    "    idx2title2book[i] = j"
   ]
  },
  {
   "cell_type": "code",
   "execution_count": 17,
   "id": "e3c09baa",
   "metadata": {
    "execution": {
     "iopub.execute_input": "2023-05-18T01:37:19.620855Z",
     "iopub.status.busy": "2023-05-18T01:37:19.620031Z",
     "iopub.status.idle": "2023-05-18T01:37:20.754475Z",
     "shell.execute_reply": "2023-05-18T01:37:20.753396Z"
    },
    "papermill": {
     "duration": 1.144308,
     "end_time": "2023-05-18T01:37:20.756424",
     "exception": false,
     "start_time": "2023-05-18T01:37:19.612116",
     "status": "completed"
    },
    "tags": []
   },
   "outputs": [
    {
     "data": {
      "text/plain": [
       "array([343, 248])"
      ]
     },
     "execution_count": 17,
     "metadata": {},
     "output_type": "execute_result"
    }
   ],
   "source": [
    "# 1. User\n",
    "\n",
    "user = 7\n",
    "read_list = tf_train.groupby(['user_id'])['idx2title'].agg({'unique'}).reset_index()\n",
    "seen = read_list[read_list['user_id'] == user]['unique'].values[0]\n",
    "seen"
   ]
  },
  {
   "cell_type": "code",
   "execution_count": 18,
   "id": "5904e8ff",
   "metadata": {
    "execution": {
     "iopub.execute_input": "2023-05-18T01:37:20.771692Z",
     "iopub.status.busy": "2023-05-18T01:37:20.771375Z",
     "iopub.status.idle": "2023-05-18T01:37:20.777263Z",
     "shell.execute_reply": "2023-05-18T01:37:20.776428Z"
    },
    "papermill": {
     "duration": 0.015456,
     "end_time": "2023-05-18T01:37:20.778934",
     "exception": false,
     "start_time": "2023-05-18T01:37:20.763478",
     "status": "completed"
    },
    "tags": []
   },
   "outputs": [
    {
     "data": {
      "text/plain": [
       "array([0., 0., 0., ..., 0., 0., 0.])"
      ]
     },
     "execution_count": 18,
     "metadata": {},
     "output_type": "execute_result"
    }
   ],
   "source": [
    "cosine_matrix[343]"
   ]
  },
  {
   "cell_type": "code",
   "execution_count": 19,
   "id": "f23ee01e",
   "metadata": {
    "execution": {
     "iopub.execute_input": "2023-05-18T01:37:20.794884Z",
     "iopub.status.busy": "2023-05-18T01:37:20.794520Z",
     "iopub.status.idle": "2023-05-18T01:37:20.800462Z",
     "shell.execute_reply": "2023-05-18T01:37:20.799639Z"
    },
    "papermill": {
     "duration": 0.016212,
     "end_time": "2023-05-18T01:37:20.802666",
     "exception": false,
     "start_time": "2023-05-18T01:37:20.786454",
     "status": "completed"
    },
    "tags": []
   },
   "outputs": [],
   "source": [
    "total_cosine_sim = np.zeros(len(book2id))\n",
    "for book_ in seen:\n",
    "    total_cosine_sim += cosine_matrix[book_]"
   ]
  },
  {
   "cell_type": "code",
   "execution_count": 20,
   "id": "7572e9cc",
   "metadata": {
    "execution": {
     "iopub.execute_input": "2023-05-18T01:37:20.818693Z",
     "iopub.status.busy": "2023-05-18T01:37:20.818105Z",
     "iopub.status.idle": "2023-05-18T01:37:20.859158Z",
     "shell.execute_reply": "2023-05-18T01:37:20.858088Z"
    },
    "papermill": {
     "duration": 0.051029,
     "end_time": "2023-05-18T01:37:20.860974",
     "exception": false,
     "start_time": "2023-05-18T01:37:20.809945",
     "status": "completed"
    },
    "tags": []
   },
   "outputs": [
    {
     "data": {
      "text/plain": [
       "[(4809, 0.793036327171204),\n",
       " (6199, 0.6915730356677104),\n",
       " (3194, 0.6607508855409738),\n",
       " (1570, 0.6390974315343301),\n",
       " (7393, 0.5820260477746269)]"
      ]
     },
     "execution_count": 20,
     "metadata": {},
     "output_type": "execute_result"
    }
   ],
   "source": [
    "# 3. Score\n",
    "\n",
    "sim_scores = [(i, c) for i, c in enumerate(total_cosine_sim) if i not in seen]\n",
    "sim_scores = sorted(sim_scores, key = lambda x: x[1], reverse=True)\n",
    "sim_scores[0:5]"
   ]
  },
  {
   "cell_type": "code",
   "execution_count": 21,
   "id": "df5a33a8",
   "metadata": {
    "execution": {
     "iopub.execute_input": "2023-05-18T01:37:20.877261Z",
     "iopub.status.busy": "2023-05-18T01:37:20.876944Z",
     "iopub.status.idle": "2023-05-18T01:37:20.881429Z",
     "shell.execute_reply": "2023-05-18T01:37:20.880902Z"
    },
    "papermill": {
     "duration": 0.014359,
     "end_time": "2023-05-18T01:37:20.883152",
     "exception": false,
     "start_time": "2023-05-18T01:37:20.868793",
     "status": "completed"
    },
    "tags": []
   },
   "outputs": [
    {
     "data": {
      "text/plain": [
       "'The Naked and the Dead'"
      ]
     },
     "execution_count": 21,
     "metadata": {},
     "output_type": "execute_result"
    }
   ],
   "source": [
    "book2id[4809]"
   ]
  },
  {
   "cell_type": "code",
   "execution_count": 22,
   "id": "53762b1d",
   "metadata": {
    "execution": {
     "iopub.execute_input": "2023-05-18T01:37:20.898519Z",
     "iopub.status.busy": "2023-05-18T01:37:20.898067Z",
     "iopub.status.idle": "2023-05-18T01:37:20.903581Z",
     "shell.execute_reply": "2023-05-18T01:37:20.902347Z"
    },
    "papermill": {
     "duration": 0.014915,
     "end_time": "2023-05-18T01:37:20.905373",
     "exception": false,
     "start_time": "2023-05-18T01:37:20.890458",
     "status": "completed"
    },
    "tags": []
   },
   "outputs": [
    {
     "data": {
      "text/plain": [
       "'12467'"
      ]
     },
     "execution_count": 22,
     "metadata": {},
     "output_type": "execute_result"
    }
   ],
   "source": [
    "bookid2book[book2id[4809]]"
   ]
  },
  {
   "cell_type": "code",
   "execution_count": 23,
   "id": "a6cd60fb",
   "metadata": {
    "execution": {
     "iopub.execute_input": "2023-05-18T01:37:20.920846Z",
     "iopub.status.busy": "2023-05-18T01:37:20.920510Z",
     "iopub.status.idle": "2023-05-18T01:37:20.927288Z",
     "shell.execute_reply": "2023-05-18T01:37:20.926240Z"
    },
    "papermill": {
     "duration": 0.016781,
     "end_time": "2023-05-18T01:37:20.929081",
     "exception": false,
     "start_time": "2023-05-18T01:37:20.912300",
     "status": "completed"
    },
    "tags": []
   },
   "outputs": [
    {
     "data": {
      "text/plain": [
       "array([    4,     7,     9, ..., 53416, 53419, 53424])"
      ]
     },
     "execution_count": 23,
     "metadata": {},
     "output_type": "execute_result"
    }
   ],
   "source": [
    "tf_train['user_id'].unique()"
   ]
  },
  {
   "cell_type": "code",
   "execution_count": 24,
   "id": "2a6b7d67",
   "metadata": {
    "execution": {
     "iopub.execute_input": "2023-05-18T01:37:20.944660Z",
     "iopub.status.busy": "2023-05-18T01:37:20.944359Z",
     "iopub.status.idle": "2023-05-18T01:37:20.952806Z",
     "shell.execute_reply": "2023-05-18T01:37:20.952036Z"
    },
    "papermill": {
     "duration": 0.018195,
     "end_time": "2023-05-18T01:37:20.954320",
     "exception": false,
     "start_time": "2023-05-18T01:37:20.936125",
     "status": "completed"
    },
    "tags": []
   },
   "outputs": [
    {
     "data": {
      "text/html": [
       "<div>\n",
       "<style scoped>\n",
       "    .dataframe tbody tr th:only-of-type {\n",
       "        vertical-align: middle;\n",
       "    }\n",
       "\n",
       "    .dataframe tbody tr th {\n",
       "        vertical-align: top;\n",
       "    }\n",
       "\n",
       "    .dataframe thead th {\n",
       "        text-align: right;\n",
       "    }\n",
       "</style>\n",
       "<table border=\"1\" class=\"dataframe\">\n",
       "  <thead>\n",
       "    <tr style=\"text-align: right;\">\n",
       "      <th></th>\n",
       "      <th>user_id</th>\n",
       "      <th>book_id</th>\n",
       "      <th>title</th>\n",
       "      <th>idx2title</th>\n",
       "    </tr>\n",
       "  </thead>\n",
       "  <tbody>\n",
       "    <tr>\n",
       "      <th>0</th>\n",
       "      <td>4</td>\n",
       "      <td>3273</td>\n",
       "      <td>Moloka'i</td>\n",
       "      <td>1215</td>\n",
       "    </tr>\n",
       "    <tr>\n",
       "      <th>1</th>\n",
       "      <td>7</td>\n",
       "      <td>4138</td>\n",
       "      <td>Naked</td>\n",
       "      <td>343</td>\n",
       "    </tr>\n",
       "    <tr>\n",
       "      <th>2</th>\n",
       "      <td>7</td>\n",
       "      <td>4588</td>\n",
       "      <td>Extremely Loud and Incredibly Close</td>\n",
       "      <td>248</td>\n",
       "    </tr>\n",
       "    <tr>\n",
       "      <th>3</th>\n",
       "      <td>9</td>\n",
       "      <td>8676</td>\n",
       "      <td>Unlimited Power : The New Science Of Personal ...</td>\n",
       "      <td>4701</td>\n",
       "    </tr>\n",
       "    <tr>\n",
       "      <th>4</th>\n",
       "      <td>10</td>\n",
       "      <td>5907</td>\n",
       "      <td>The Hobbit</td>\n",
       "      <td>6</td>\n",
       "    </tr>\n",
       "  </tbody>\n",
       "</table>\n",
       "</div>"
      ],
      "text/plain": [
       "   user_id book_id                                              title  \\\n",
       "0        4    3273                                           Moloka'i   \n",
       "1        7    4138                                              Naked   \n",
       "2        7    4588                Extremely Loud and Incredibly Close   \n",
       "3        9    8676  Unlimited Power : The New Science Of Personal ...   \n",
       "4       10    5907                                         The Hobbit   \n",
       "\n",
       "   idx2title  \n",
       "0       1215  \n",
       "1        343  \n",
       "2        248  \n",
       "3       4701  \n",
       "4          6  "
      ]
     },
     "execution_count": 24,
     "metadata": {},
     "output_type": "execute_result"
    }
   ],
   "source": [
    "tf_train.head()"
   ]
  },
  {
   "cell_type": "code",
   "execution_count": 25,
   "id": "91f0f07f",
   "metadata": {
    "execution": {
     "iopub.execute_input": "2023-05-18T01:37:20.970217Z",
     "iopub.status.busy": "2023-05-18T01:37:20.969939Z",
     "iopub.status.idle": "2023-05-18T01:51:44.143158Z",
     "shell.execute_reply": "2023-05-18T01:51:44.142264Z"
    },
    "papermill": {
     "duration": 863.183547,
     "end_time": "2023-05-18T01:51:44.145275",
     "exception": false,
     "start_time": "2023-05-18T01:37:20.961728",
     "status": "completed"
    },
    "tags": []
   },
   "outputs": [
    {
     "data": {
      "application/vnd.jupyter.widget-view+json": {
       "model_id": "a4238c10ac7f437db81839a3a67cd750",
       "version_major": 2,
       "version_minor": 0
      },
      "text/plain": [
       "  0%|          | 0/53382 [00:00<?, ?it/s]"
      ]
     },
     "metadata": {},
     "output_type": "display_data"
    }
   ],
   "source": [
    "# Total\n",
    "\n",
    "total_rec_list = {}\n",
    "\n",
    "read_list1 = train.groupby(['user_id'])['book_id'].agg({'unique'}).reset_index()\n",
    "read_list2 = tf_train.groupby(['user_id'])['idx2title'].agg({'unique'}).reset_index()\n",
    "\n",
    "for user in tqdm(train['user_id'].unique()):\n",
    "    rec_list = []\n",
    "    \n",
    "    if user in tf_train['user_id'].unique():\n",
    "        seen = read_list2[read_list2['user_id'] == user]['unique'].values[0]\n",
    "        total_cosine_sim = np.zeros(len(book2id))\n",
    "        for book_ in seen:\n",
    "            total_cosine_sim += cosine_matrix[book_]\n",
    "        \n",
    "        sim_scores = [(bookid2book[book2id[i]], c) for i, c in enumerate(total_cosine_sim) if i not in seen]        \n",
    "        recs = sorted(sim_scores, key = lambda x: x[1], reverse=True)[0:300]\n",
    "        \n",
    "        for rec in recs:\n",
    "            if rec not in seen:\n",
    "                      rec_list.append(rec)\n",
    "     \n",
    "    else: \n",
    "        seen = read_list1[read_list1['user_id'] == user]['unique'].values[0]\n",
    "        for rec in popular_rec_model[0:400]:\n",
    "            if rec not in seen:\n",
    "                rec_list.append(rec)\n",
    "                \n",
    "    total_rec_list[user] = rec_list[0:200]  "
   ]
  },
  {
   "cell_type": "code",
   "execution_count": 26,
   "id": "99557898",
   "metadata": {
    "execution": {
     "iopub.execute_input": "2023-05-18T01:51:44.165016Z",
     "iopub.status.busy": "2023-05-18T01:51:44.164546Z",
     "iopub.status.idle": "2023-05-18T01:51:44.176888Z",
     "shell.execute_reply": "2023-05-18T01:51:44.176164Z"
    },
    "papermill": {
     "duration": 0.024578,
     "end_time": "2023-05-18T01:51:44.178628",
     "exception": false,
     "start_time": "2023-05-18T01:51:44.154050",
     "status": "completed"
    },
    "tags": []
   },
   "outputs": [],
   "source": [
    "import six\n",
    "import math\n",
    "\n",
    "class evaluate():\n",
    "    def __init__(self, recs, gt, topn=100):\n",
    "        self.recs = recs\n",
    "        self.gt = gt \n",
    "        self.topn = topn \n",
    "        \n",
    "    def _ndcg(self):\n",
    "        Q, S = 0.0, 0.0\n",
    "        for u, seen in six.iteritems(self.gt):\n",
    "            seen = list(set(seen))\n",
    "            rec = self.recs.get(u, [])\n",
    "            if not rec or len(seen) == 0:\n",
    "                continue\n",
    "\n",
    "            dcg = 0.0\n",
    "            idcg = sum([1.0 / math.log(i + 2, 2) for i in range(min(len(seen), len(rec)))])\n",
    "            for i, r in enumerate(rec):\n",
    "                if r not in seen:\n",
    "                    continue\n",
    "                rank = i + 1\n",
    "                dcg += 1.0 / math.log(rank + 1, 2)\n",
    "            ndcg = dcg / idcg\n",
    "            S += ndcg\n",
    "            Q += 1\n",
    "        return S / Q\n",
    "\n",
    "\n",
    "    def _map(self):\n",
    "        n, ap = 0.0, 0.0\n",
    "        for u, seen in six.iteritems(self.gt):\n",
    "            seen = list(set(seen))\n",
    "            rec = self.recs.get(u, [])\n",
    "            if not rec or len(seen) == 0:\n",
    "                continue\n",
    "\n",
    "            _ap, correct = 0.0, 0.0\n",
    "            for i, r in enumerate(rec):\n",
    "                if r in seen:\n",
    "                    correct += 1\n",
    "                    _ap += (correct / (i + 1.0))\n",
    "            _ap /= min(len(seen), len(rec))\n",
    "            ap += _ap\n",
    "            n += 1.0\n",
    "        return ap / n\n",
    "\n",
    "\n",
    "    def _entropy_diversity(self):\n",
    "        sz = float(len(self.recs)) * self.topn\n",
    "        freq = {}\n",
    "        for u, rec in six.iteritems(self.recs):\n",
    "            for r in rec:\n",
    "                freq[r] = freq.get(r, 0) + 1\n",
    "        ent = -sum([v / sz * math.log(v / sz) for v in six.itervalues(freq)])\n",
    "        return ent\n",
    "    \n",
    "    def _evaluate(self):\n",
    "        print('MAP@%s: %s' % (self.topn, self._map()))\n",
    "        print('NDCG@%s: %s' % (self.topn, self._ndcg()))\n",
    "        print('EntDiv@%s: %s' % (self.topn, self._entropy_diversity()))"
   ]
  },
  {
   "cell_type": "code",
   "execution_count": 27,
   "id": "82097004",
   "metadata": {
    "execution": {
     "iopub.execute_input": "2023-05-18T01:51:44.195383Z",
     "iopub.status.busy": "2023-05-18T01:51:44.194881Z",
     "iopub.status.idle": "2023-05-18T01:51:52.708206Z",
     "shell.execute_reply": "2023-05-18T01:51:52.707092Z"
    },
    "papermill": {
     "duration": 8.523633,
     "end_time": "2023-05-18T01:51:52.710021",
     "exception": false,
     "start_time": "2023-05-18T01:51:44.186388",
     "status": "completed"
    },
    "tags": []
   },
   "outputs": [
    {
     "name": "stdout",
     "output_type": "stream",
     "text": [
      "MAP@200: 8.152674144049246e-05\n",
      "NDCG@200: 0.0008393198172755216\n",
      "EntDiv@200: 6.916260625417244\n"
     ]
    }
   ],
   "source": [
    "evaluate_func = evaluate(recs=total_rec_list, gt = gt, topn=200)\n",
    "evaluate_func._evaluate()"
   ]
  }
 ],
 "metadata": {
  "kernelspec": {
   "display_name": "Python 3",
   "language": "python",
   "name": "python3"
  },
  "language_info": {
   "codemirror_mode": {
    "name": "ipython",
    "version": 3
   },
   "file_extension": ".py",
   "mimetype": "text/x-python",
   "name": "python",
   "nbconvert_exporter": "python",
   "pygments_lexer": "ipython3",
   "version": "3.10.10"
  },
  "papermill": {
   "default_parameters": {},
   "duration": 908.126171,
   "end_time": "2023-05-18T01:51:54.545920",
   "environment_variables": {},
   "exception": null,
   "input_path": "__notebook__.ipynb",
   "output_path": "__notebook__.ipynb",
   "parameters": {},
   "start_time": "2023-05-18T01:36:46.419749",
   "version": "2.4.0"
  },
  "widgets": {
   "application/vnd.jupyter.widget-state+json": {
    "state": {
     "007fbc309e784eb48733972716129f37": {
      "model_module": "@jupyter-widgets/base",
      "model_module_version": "1.2.0",
      "model_name": "LayoutModel",
      "state": {
       "_model_module": "@jupyter-widgets/base",
       "_model_module_version": "1.2.0",
       "_model_name": "LayoutModel",
       "_view_count": null,
       "_view_module": "@jupyter-widgets/base",
       "_view_module_version": "1.2.0",
       "_view_name": "LayoutView",
       "align_content": null,
       "align_items": null,
       "align_self": null,
       "border": null,
       "bottom": null,
       "display": null,
       "flex": null,
       "flex_flow": null,
       "grid_area": null,
       "grid_auto_columns": null,
       "grid_auto_flow": null,
       "grid_auto_rows": null,
       "grid_column": null,
       "grid_gap": null,
       "grid_row": null,
       "grid_template_areas": null,
       "grid_template_columns": null,
       "grid_template_rows": null,
       "height": null,
       "justify_content": null,
       "justify_items": null,
       "left": null,
       "margin": null,
       "max_height": null,
       "max_width": null,
       "min_height": null,
       "min_width": null,
       "object_fit": null,
       "object_position": null,
       "order": null,
       "overflow": null,
       "overflow_x": null,
       "overflow_y": null,
       "padding": null,
       "right": null,
       "top": null,
       "visibility": null,
       "width": null
      }
     },
     "33da02b466954339bbc76072e63e1003": {
      "model_module": "@jupyter-widgets/controls",
      "model_module_version": "1.5.0",
      "model_name": "HTMLModel",
      "state": {
       "_dom_classes": [],
       "_model_module": "@jupyter-widgets/controls",
       "_model_module_version": "1.5.0",
       "_model_name": "HTMLModel",
       "_view_count": null,
       "_view_module": "@jupyter-widgets/controls",
       "_view_module_version": "1.5.0",
       "_view_name": "HTMLView",
       "description": "",
       "description_tooltip": null,
       "layout": "IPY_MODEL_4b63ca44a3e14a22b87f91a73a6de9ef",
       "placeholder": "​",
       "style": "IPY_MODEL_c265e4df567349fab0a3fe83cc1f2421",
       "value": " 53424/53424 [00:16&lt;00:00, 3348.25it/s]"
      }
     },
     "3b72771b9d2942b59737847b2cf2e769": {
      "model_module": "@jupyter-widgets/base",
      "model_module_version": "1.2.0",
      "model_name": "LayoutModel",
      "state": {
       "_model_module": "@jupyter-widgets/base",
       "_model_module_version": "1.2.0",
       "_model_name": "LayoutModel",
       "_view_count": null,
       "_view_module": "@jupyter-widgets/base",
       "_view_module_version": "1.2.0",
       "_view_name": "LayoutView",
       "align_content": null,
       "align_items": null,
       "align_self": null,
       "border": null,
       "bottom": null,
       "display": null,
       "flex": null,
       "flex_flow": null,
       "grid_area": null,
       "grid_auto_columns": null,
       "grid_auto_flow": null,
       "grid_auto_rows": null,
       "grid_column": null,
       "grid_gap": null,
       "grid_row": null,
       "grid_template_areas": null,
       "grid_template_columns": null,
       "grid_template_rows": null,
       "height": null,
       "justify_content": null,
       "justify_items": null,
       "left": null,
       "margin": null,
       "max_height": null,
       "max_width": null,
       "min_height": null,
       "min_width": null,
       "object_fit": null,
       "object_position": null,
       "order": null,
       "overflow": null,
       "overflow_x": null,
       "overflow_y": null,
       "padding": null,
       "right": null,
       "top": null,
       "visibility": null,
       "width": null
      }
     },
     "4a5557d0b28047a5898791f2fa1a119e": {
      "model_module": "@jupyter-widgets/controls",
      "model_module_version": "1.5.0",
      "model_name": "DescriptionStyleModel",
      "state": {
       "_model_module": "@jupyter-widgets/controls",
       "_model_module_version": "1.5.0",
       "_model_name": "DescriptionStyleModel",
       "_view_count": null,
       "_view_module": "@jupyter-widgets/base",
       "_view_module_version": "1.2.0",
       "_view_name": "StyleView",
       "description_width": ""
      }
     },
     "4b0870f3c4b642a1918e879c0d9eea4b": {
      "model_module": "@jupyter-widgets/base",
      "model_module_version": "1.2.0",
      "model_name": "LayoutModel",
      "state": {
       "_model_module": "@jupyter-widgets/base",
       "_model_module_version": "1.2.0",
       "_model_name": "LayoutModel",
       "_view_count": null,
       "_view_module": "@jupyter-widgets/base",
       "_view_module_version": "1.2.0",
       "_view_name": "LayoutView",
       "align_content": null,
       "align_items": null,
       "align_self": null,
       "border": null,
       "bottom": null,
       "display": null,
       "flex": null,
       "flex_flow": null,
       "grid_area": null,
       "grid_auto_columns": null,
       "grid_auto_flow": null,
       "grid_auto_rows": null,
       "grid_column": null,
       "grid_gap": null,
       "grid_row": null,
       "grid_template_areas": null,
       "grid_template_columns": null,
       "grid_template_rows": null,
       "height": null,
       "justify_content": null,
       "justify_items": null,
       "left": null,
       "margin": null,
       "max_height": null,
       "max_width": null,
       "min_height": null,
       "min_width": null,
       "object_fit": null,
       "object_position": null,
       "order": null,
       "overflow": null,
       "overflow_x": null,
       "overflow_y": null,
       "padding": null,
       "right": null,
       "top": null,
       "visibility": null,
       "width": null
      }
     },
     "4b63ca44a3e14a22b87f91a73a6de9ef": {
      "model_module": "@jupyter-widgets/base",
      "model_module_version": "1.2.0",
      "model_name": "LayoutModel",
      "state": {
       "_model_module": "@jupyter-widgets/base",
       "_model_module_version": "1.2.0",
       "_model_name": "LayoutModel",
       "_view_count": null,
       "_view_module": "@jupyter-widgets/base",
       "_view_module_version": "1.2.0",
       "_view_name": "LayoutView",
       "align_content": null,
       "align_items": null,
       "align_self": null,
       "border": null,
       "bottom": null,
       "display": null,
       "flex": null,
       "flex_flow": null,
       "grid_area": null,
       "grid_auto_columns": null,
       "grid_auto_flow": null,
       "grid_auto_rows": null,
       "grid_column": null,
       "grid_gap": null,
       "grid_row": null,
       "grid_template_areas": null,
       "grid_template_columns": null,
       "grid_template_rows": null,
       "height": null,
       "justify_content": null,
       "justify_items": null,
       "left": null,
       "margin": null,
       "max_height": null,
       "max_width": null,
       "min_height": null,
       "min_width": null,
       "object_fit": null,
       "object_position": null,
       "order": null,
       "overflow": null,
       "overflow_x": null,
       "overflow_y": null,
       "padding": null,
       "right": null,
       "top": null,
       "visibility": null,
       "width": null
      }
     },
     "64e7778fb7444ba4888c2a090c616395": {
      "model_module": "@jupyter-widgets/controls",
      "model_module_version": "1.5.0",
      "model_name": "HTMLModel",
      "state": {
       "_dom_classes": [],
       "_model_module": "@jupyter-widgets/controls",
       "_model_module_version": "1.5.0",
       "_model_name": "HTMLModel",
       "_view_count": null,
       "_view_module": "@jupyter-widgets/controls",
       "_view_module_version": "1.5.0",
       "_view_name": "HTMLView",
       "description": "",
       "description_tooltip": null,
       "layout": "IPY_MODEL_7f2f76ea21c34d58974e3cf47081caba",
       "placeholder": "​",
       "style": "IPY_MODEL_bac67f6cbf14429babe75e4ac214c0a7",
       "value": "100%"
      }
     },
     "6868b9f8758246b59e48a561654a5fae": {
      "model_module": "@jupyter-widgets/controls",
      "model_module_version": "1.5.0",
      "model_name": "HBoxModel",
      "state": {
       "_dom_classes": [],
       "_model_module": "@jupyter-widgets/controls",
       "_model_module_version": "1.5.0",
       "_model_name": "HBoxModel",
       "_view_count": null,
       "_view_module": "@jupyter-widgets/controls",
       "_view_module_version": "1.5.0",
       "_view_name": "HBoxView",
       "box_style": "",
       "children": [
        "IPY_MODEL_64e7778fb7444ba4888c2a090c616395",
        "IPY_MODEL_8a52849ea5d047f093f59f26c62e5441",
        "IPY_MODEL_33da02b466954339bbc76072e63e1003"
       ],
       "layout": "IPY_MODEL_4b0870f3c4b642a1918e879c0d9eea4b"
      }
     },
     "7f2f76ea21c34d58974e3cf47081caba": {
      "model_module": "@jupyter-widgets/base",
      "model_module_version": "1.2.0",
      "model_name": "LayoutModel",
      "state": {
       "_model_module": "@jupyter-widgets/base",
       "_model_module_version": "1.2.0",
       "_model_name": "LayoutModel",
       "_view_count": null,
       "_view_module": "@jupyter-widgets/base",
       "_view_module_version": "1.2.0",
       "_view_name": "LayoutView",
       "align_content": null,
       "align_items": null,
       "align_self": null,
       "border": null,
       "bottom": null,
       "display": null,
       "flex": null,
       "flex_flow": null,
       "grid_area": null,
       "grid_auto_columns": null,
       "grid_auto_flow": null,
       "grid_auto_rows": null,
       "grid_column": null,
       "grid_gap": null,
       "grid_row": null,
       "grid_template_areas": null,
       "grid_template_columns": null,
       "grid_template_rows": null,
       "height": null,
       "justify_content": null,
       "justify_items": null,
       "left": null,
       "margin": null,
       "max_height": null,
       "max_width": null,
       "min_height": null,
       "min_width": null,
       "object_fit": null,
       "object_position": null,
       "order": null,
       "overflow": null,
       "overflow_x": null,
       "overflow_y": null,
       "padding": null,
       "right": null,
       "top": null,
       "visibility": null,
       "width": null
      }
     },
     "82a25382328b44bcb9b794c1b8318afa": {
      "model_module": "@jupyter-widgets/controls",
      "model_module_version": "1.5.0",
      "model_name": "ProgressStyleModel",
      "state": {
       "_model_module": "@jupyter-widgets/controls",
       "_model_module_version": "1.5.0",
       "_model_name": "ProgressStyleModel",
       "_view_count": null,
       "_view_module": "@jupyter-widgets/base",
       "_view_module_version": "1.2.0",
       "_view_name": "StyleView",
       "bar_color": null,
       "description_width": ""
      }
     },
     "8a52849ea5d047f093f59f26c62e5441": {
      "model_module": "@jupyter-widgets/controls",
      "model_module_version": "1.5.0",
      "model_name": "FloatProgressModel",
      "state": {
       "_dom_classes": [],
       "_model_module": "@jupyter-widgets/controls",
       "_model_module_version": "1.5.0",
       "_model_name": "FloatProgressModel",
       "_view_count": null,
       "_view_module": "@jupyter-widgets/controls",
       "_view_module_version": "1.5.0",
       "_view_name": "ProgressView",
       "bar_style": "success",
       "description": "",
       "description_tooltip": null,
       "layout": "IPY_MODEL_fa711fe4189148779d5fd226ca1fde3d",
       "max": 53424.0,
       "min": 0.0,
       "orientation": "horizontal",
       "style": "IPY_MODEL_82a25382328b44bcb9b794c1b8318afa",
       "value": 53424.0
      }
     },
     "a4238c10ac7f437db81839a3a67cd750": {
      "model_module": "@jupyter-widgets/controls",
      "model_module_version": "1.5.0",
      "model_name": "HBoxModel",
      "state": {
       "_dom_classes": [],
       "_model_module": "@jupyter-widgets/controls",
       "_model_module_version": "1.5.0",
       "_model_name": "HBoxModel",
       "_view_count": null,
       "_view_module": "@jupyter-widgets/controls",
       "_view_module_version": "1.5.0",
       "_view_name": "HBoxView",
       "box_style": "",
       "children": [
        "IPY_MODEL_e068c237a86b4039988e9ae89ee01fcb",
        "IPY_MODEL_ea5be874620847b0a2cfe3c9aa424ed9",
        "IPY_MODEL_e54ce265876545fe90e8752eb50b4765"
       ],
       "layout": "IPY_MODEL_de8be7c7950e4deba9fabe0afb955631"
      }
     },
     "bac67f6cbf14429babe75e4ac214c0a7": {
      "model_module": "@jupyter-widgets/controls",
      "model_module_version": "1.5.0",
      "model_name": "DescriptionStyleModel",
      "state": {
       "_model_module": "@jupyter-widgets/controls",
       "_model_module_version": "1.5.0",
       "_model_name": "DescriptionStyleModel",
       "_view_count": null,
       "_view_module": "@jupyter-widgets/base",
       "_view_module_version": "1.2.0",
       "_view_name": "StyleView",
       "description_width": ""
      }
     },
     "c265e4df567349fab0a3fe83cc1f2421": {
      "model_module": "@jupyter-widgets/controls",
      "model_module_version": "1.5.0",
      "model_name": "DescriptionStyleModel",
      "state": {
       "_model_module": "@jupyter-widgets/controls",
       "_model_module_version": "1.5.0",
       "_model_name": "DescriptionStyleModel",
       "_view_count": null,
       "_view_module": "@jupyter-widgets/base",
       "_view_module_version": "1.2.0",
       "_view_name": "StyleView",
       "description_width": ""
      }
     },
     "c3648825bef948629c0caf7b0e71eac9": {
      "model_module": "@jupyter-widgets/base",
      "model_module_version": "1.2.0",
      "model_name": "LayoutModel",
      "state": {
       "_model_module": "@jupyter-widgets/base",
       "_model_module_version": "1.2.0",
       "_model_name": "LayoutModel",
       "_view_count": null,
       "_view_module": "@jupyter-widgets/base",
       "_view_module_version": "1.2.0",
       "_view_name": "LayoutView",
       "align_content": null,
       "align_items": null,
       "align_self": null,
       "border": null,
       "bottom": null,
       "display": null,
       "flex": null,
       "flex_flow": null,
       "grid_area": null,
       "grid_auto_columns": null,
       "grid_auto_flow": null,
       "grid_auto_rows": null,
       "grid_column": null,
       "grid_gap": null,
       "grid_row": null,
       "grid_template_areas": null,
       "grid_template_columns": null,
       "grid_template_rows": null,
       "height": null,
       "justify_content": null,
       "justify_items": null,
       "left": null,
       "margin": null,
       "max_height": null,
       "max_width": null,
       "min_height": null,
       "min_width": null,
       "object_fit": null,
       "object_position": null,
       "order": null,
       "overflow": null,
       "overflow_x": null,
       "overflow_y": null,
       "padding": null,
       "right": null,
       "top": null,
       "visibility": null,
       "width": null
      }
     },
     "d9d3c920ef4b4e2d9f789b7fa9f3ec6b": {
      "model_module": "@jupyter-widgets/controls",
      "model_module_version": "1.5.0",
      "model_name": "DescriptionStyleModel",
      "state": {
       "_model_module": "@jupyter-widgets/controls",
       "_model_module_version": "1.5.0",
       "_model_name": "DescriptionStyleModel",
       "_view_count": null,
       "_view_module": "@jupyter-widgets/base",
       "_view_module_version": "1.2.0",
       "_view_name": "StyleView",
       "description_width": ""
      }
     },
     "de8be7c7950e4deba9fabe0afb955631": {
      "model_module": "@jupyter-widgets/base",
      "model_module_version": "1.2.0",
      "model_name": "LayoutModel",
      "state": {
       "_model_module": "@jupyter-widgets/base",
       "_model_module_version": "1.2.0",
       "_model_name": "LayoutModel",
       "_view_count": null,
       "_view_module": "@jupyter-widgets/base",
       "_view_module_version": "1.2.0",
       "_view_name": "LayoutView",
       "align_content": null,
       "align_items": null,
       "align_self": null,
       "border": null,
       "bottom": null,
       "display": null,
       "flex": null,
       "flex_flow": null,
       "grid_area": null,
       "grid_auto_columns": null,
       "grid_auto_flow": null,
       "grid_auto_rows": null,
       "grid_column": null,
       "grid_gap": null,
       "grid_row": null,
       "grid_template_areas": null,
       "grid_template_columns": null,
       "grid_template_rows": null,
       "height": null,
       "justify_content": null,
       "justify_items": null,
       "left": null,
       "margin": null,
       "max_height": null,
       "max_width": null,
       "min_height": null,
       "min_width": null,
       "object_fit": null,
       "object_position": null,
       "order": null,
       "overflow": null,
       "overflow_x": null,
       "overflow_y": null,
       "padding": null,
       "right": null,
       "top": null,
       "visibility": null,
       "width": null
      }
     },
     "e068c237a86b4039988e9ae89ee01fcb": {
      "model_module": "@jupyter-widgets/controls",
      "model_module_version": "1.5.0",
      "model_name": "HTMLModel",
      "state": {
       "_dom_classes": [],
       "_model_module": "@jupyter-widgets/controls",
       "_model_module_version": "1.5.0",
       "_model_name": "HTMLModel",
       "_view_count": null,
       "_view_module": "@jupyter-widgets/controls",
       "_view_module_version": "1.5.0",
       "_view_name": "HTMLView",
       "description": "",
       "description_tooltip": null,
       "layout": "IPY_MODEL_c3648825bef948629c0caf7b0e71eac9",
       "placeholder": "​",
       "style": "IPY_MODEL_4a5557d0b28047a5898791f2fa1a119e",
       "value": "100%"
      }
     },
     "e4b1fbc0947e48f7ada980cf93d7f912": {
      "model_module": "@jupyter-widgets/controls",
      "model_module_version": "1.5.0",
      "model_name": "ProgressStyleModel",
      "state": {
       "_model_module": "@jupyter-widgets/controls",
       "_model_module_version": "1.5.0",
       "_model_name": "ProgressStyleModel",
       "_view_count": null,
       "_view_module": "@jupyter-widgets/base",
       "_view_module_version": "1.2.0",
       "_view_name": "StyleView",
       "bar_color": null,
       "description_width": ""
      }
     },
     "e54ce265876545fe90e8752eb50b4765": {
      "model_module": "@jupyter-widgets/controls",
      "model_module_version": "1.5.0",
      "model_name": "HTMLModel",
      "state": {
       "_dom_classes": [],
       "_model_module": "@jupyter-widgets/controls",
       "_model_module_version": "1.5.0",
       "_model_name": "HTMLModel",
       "_view_count": null,
       "_view_module": "@jupyter-widgets/controls",
       "_view_module_version": "1.5.0",
       "_view_name": "HTMLView",
       "description": "",
       "description_tooltip": null,
       "layout": "IPY_MODEL_3b72771b9d2942b59737847b2cf2e769",
       "placeholder": "​",
       "style": "IPY_MODEL_d9d3c920ef4b4e2d9f789b7fa9f3ec6b",
       "value": " 53382/53382 [14:18&lt;00:00, 78.23it/s]"
      }
     },
     "ea5be874620847b0a2cfe3c9aa424ed9": {
      "model_module": "@jupyter-widgets/controls",
      "model_module_version": "1.5.0",
      "model_name": "FloatProgressModel",
      "state": {
       "_dom_classes": [],
       "_model_module": "@jupyter-widgets/controls",
       "_model_module_version": "1.5.0",
       "_model_name": "FloatProgressModel",
       "_view_count": null,
       "_view_module": "@jupyter-widgets/controls",
       "_view_module_version": "1.5.0",
       "_view_name": "ProgressView",
       "bar_style": "success",
       "description": "",
       "description_tooltip": null,
       "layout": "IPY_MODEL_007fbc309e784eb48733972716129f37",
       "max": 53382.0,
       "min": 0.0,
       "orientation": "horizontal",
       "style": "IPY_MODEL_e4b1fbc0947e48f7ada980cf93d7f912",
       "value": 53382.0
      }
     },
     "fa711fe4189148779d5fd226ca1fde3d": {
      "model_module": "@jupyter-widgets/base",
      "model_module_version": "1.2.0",
      "model_name": "LayoutModel",
      "state": {
       "_model_module": "@jupyter-widgets/base",
       "_model_module_version": "1.2.0",
       "_model_name": "LayoutModel",
       "_view_count": null,
       "_view_module": "@jupyter-widgets/base",
       "_view_module_version": "1.2.0",
       "_view_name": "LayoutView",
       "align_content": null,
       "align_items": null,
       "align_self": null,
       "border": null,
       "bottom": null,
       "display": null,
       "flex": null,
       "flex_flow": null,
       "grid_area": null,
       "grid_auto_columns": null,
       "grid_auto_flow": null,
       "grid_auto_rows": null,
       "grid_column": null,
       "grid_gap": null,
       "grid_row": null,
       "grid_template_areas": null,
       "grid_template_columns": null,
       "grid_template_rows": null,
       "height": null,
       "justify_content": null,
       "justify_items": null,
       "left": null,
       "margin": null,
       "max_height": null,
       "max_width": null,
       "min_height": null,
       "min_width": null,
       "object_fit": null,
       "object_position": null,
       "order": null,
       "overflow": null,
       "overflow_x": null,
       "overflow_y": null,
       "padding": null,
       "right": null,
       "top": null,
       "visibility": null,
       "width": null
      }
     }
    },
    "version_major": 2,
    "version_minor": 0
   }
  }
 },
 "nbformat": 4,
 "nbformat_minor": 5
}
